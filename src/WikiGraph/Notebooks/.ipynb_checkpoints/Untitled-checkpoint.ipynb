{
 "cells": [
  {
   "cell_type": "code",
   "execution_count": 4,
   "id": "60989f65",
   "metadata": {},
   "outputs": [
    {
     "ename": "Unhandled Exception",
     "evalue": "(4,7): error CS0138: A 'using namespace' directive can only be applied to namespaces; 'Assembly' is a type not a namespace. Consider a 'using static' directive instead\r\n(15,1): error CS0103: The name 'Assembly' does not exist in the current context",
     "output_type": "error",
     "traceback": [
      "(4,7): error CS0138: A 'using namespace' directive can only be applied to namespaces; 'Assembly' is a type not a namespace. Consider a 'using static' directive instead\r\n(15,1): error CS0103: The name 'Assembly' does not exist in the current context"
     ]
    }
   ],
   "source": [
    "using System;\n",
    "using System.IO;\n",
    "using System.Collections.Generic;\n",
    "using System.Reflection;\n",
    "using System.Runtime.Serialization.Formatters.Binary;\n",
    "\n",
    "    [Serializable]\n",
    "    public class WikiNode\n",
    "    {\n",
    "        public string Title;\n",
    "        public bool IsRedirect;\n",
    "        public List<WikiNode> Edges;\n",
    "    }\n",
    "\n",
    "Assembly.LoadFile(\"C:\\\\Users\\\\carlos\\\\Development\\\\wikiracer\\\\src\\\\WikiGraph\\\\bin\\\\Debug\\\\net5.0\\\\WikiGraph.dll\");\n",
    "\n",
    "BinaryFormatter formatter = new BinaryFormatter();\n",
    "FileStream stream = File.OpenRead(\"C:\\\\Users\\\\carlos\\\\Desktop\\\\test123\");\n",
    "Dictionary<string, WikiNode> graph = (Dictionary<string, WikiNode>)formatter.Deserialize(stream);\n",
    "stream.Close();"
   ]
  },
  {
   "cell_type": "code",
   "execution_count": null,
   "id": "6c77e6a8",
   "metadata": {},
   "outputs": [],
   "source": []
  }
 ],
 "metadata": {
  "kernelspec": {
   "display_name": ".NET (C#)",
   "language": "C#",
   "name": ".net-csharp"
  },
  "language_info": {
   "file_extension": ".cs",
   "mimetype": "text/x-csharp",
   "name": "C#",
   "pygments_lexer": "csharp",
   "version": "8.0"
  }
 },
 "nbformat": 4,
 "nbformat_minor": 5
}
