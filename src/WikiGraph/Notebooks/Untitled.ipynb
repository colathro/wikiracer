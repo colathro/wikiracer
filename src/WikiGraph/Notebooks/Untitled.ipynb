{
 "cells": [
  {
   "cell_type": "code",
   "execution_count": null,
   "id": "60989f65",
   "metadata": {},
   "outputs": [
    {
     "ename": "Unhandled Exception",
     "evalue": "Unable to find assembly 'WikiGraph, Version=1.0.0.0, Culture=neutral, PublicKeyToken=null'.",
     "output_type": "error",
     "traceback": [
      "Unhandled Exception",
      "Unable to find assembly 'WikiGraph, Version=1.0.0.0, Culture=neutral, PublicKeyToken=null'.",
      "   at System.Runtime.Serialization.Formatters.Binary.BinaryAssemblyInfo.GetAssembly()",
      "   at System.Runtime.Serialization.Formatters.Binary.ObjectReader.GetType(BinaryAssemblyInfo assemblyInfo, String name)",
      "   at System.Runtime.Serialization.Formatters.Binary.ObjectMap..ctor(String objectName, String[] memberNames, BinaryTypeEnum[] binaryTypeEnumA, Object[] typeInformationA, Int32[] memberAssemIds, ObjectReader objectReader, Int32 objectId, BinaryAssemblyInfo assemblyInfo, SizedArray assemIdToAssemblyTable)",
      "   at System.Runtime.Serialization.Formatters.Binary.BinaryParser.ReadObjectWithMapTyped(BinaryObjectWithMapTyped record)",
      "   at System.Runtime.Serialization.Formatters.Binary.BinaryParser.ReadObjectWithMapTyped(BinaryHeaderEnum binaryHeaderEnum)",
      "   at System.Runtime.Serialization.Formatters.Binary.BinaryParser.Run()",
      "   at System.Runtime.Serialization.Formatters.Binary.ObjectReader.Deserialize(BinaryParser serParser, Boolean fCheck)",
      "   at System.Runtime.Serialization.Formatters.Binary.BinaryFormatter.Deserialize(Stream serializationStream, Boolean check)",
      "   at System.Runtime.Serialization.Formatters.Binary.BinaryFormatter.Deserialize(Stream serializationStream)",
      "   at Submission#2.<<Initialize>>d__0.MoveNext()",
      "--- End of stack trace from previous location where exception was thrown ---",
      "   at Microsoft.CodeAnalysis.Scripting.ScriptExecutionState.RunSubmissionsAsync[TResult](ImmutableArray`1 precedingExecutors, Func`2 currentExecutor, StrongBox`1 exceptionHolderOpt, Func`2 catchExceptionOpt, CancellationToken cancellationToken)"
     ]
    }
   ],
   "source": [
    "using System;\n",
    "using System.IO;\n",
    "using System.Collections.Generic;\n",
    "using System.Reflection;\n",
    "using System.Runtime.Serialization.Formatters.Binary;\n",
    "\n",
    "    [Serializable]\n",
    "    public class WikiNode\n",
    "    {\n",
    "        public string Title;\n",
    "        public bool IsRedirect;\n",
    "        public List<WikiNode> Edges;\n",
    "    }\n",
    "\n",
    "BinaryFormatter formatter = new BinaryFormatter();\n",
    "FileStream stream = File.OpenRead(\"C:\\\\Users\\\\carlos\\\\Desktop\\\\test123\");\n",
    "Dictionary<string, WikiNode> graph = (Dictionary<string, WikiNode>)formatter.Deserialize(stream);\n",
    "stream.Close();"
   ]
  },
  {
   "cell_type": "code",
   "execution_count": null,
   "id": "6ac47506",
   "metadata": {},
   "outputs": [],
   "source": []
  }
 ],
 "metadata": {
  "kernelspec": {
   "display_name": ".NET (C#)",
   "language": "C#",
   "name": ".net-csharp"
  },
  "language_info": {
   "file_extension": ".cs",
   "mimetype": "text/x-csharp",
   "name": "C#",
   "pygments_lexer": "csharp",
   "version": "8.0"
  }
 },
 "nbformat": 4,
 "nbformat_minor": 5
}
